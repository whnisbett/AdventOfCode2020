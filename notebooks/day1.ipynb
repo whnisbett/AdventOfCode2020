{
 "cells": [
  {
   "cell_type": "code",
   "execution_count": 1,
   "metadata": {},
   "outputs": [],
   "source": [
    "import csv\n",
    "import numpy as np"
   ]
  },
  {
   "cell_type": "code",
   "execution_count": 2,
   "metadata": {},
   "outputs": [],
   "source": [
    "with open('day1_input.txt', 'r', newline='\\n') as f:\n",
    "    reader = csv.reader(f)\n",
    "    data = np.array([int(row[0]) for row in list(reader)])"
   ]
  },
  {
   "cell_type": "markdown",
   "metadata": {},
   "source": [
    "# Part 1"
   ]
  },
  {
   "cell_type": "markdown",
   "metadata": {},
   "source": [
    "For each element in the report, determine what its difference from 2020 is, then find those differences that are in original dataset."
   ]
  },
  {
   "cell_type": "code",
   "execution_count": 3,
   "metadata": {},
   "outputs": [
    {
     "data": {
      "text/plain": [
       "1020099"
      ]
     },
     "execution_count": 3,
     "metadata": {},
     "output_type": "execute_result"
    }
   ],
   "source": [
    "diffs = 2020 - data\n",
    "np.intersect1d(diffs, data).prod()"
   ]
  },
  {
   "cell_type": "markdown",
   "metadata": {},
   "source": [
    "# Part 2"
   ]
  },
  {
   "cell_type": "markdown",
   "metadata": {},
   "source": [
    "Similar to the first approach. For each difference in `diffs`, we are now looking to see if there are two numbers in the original dataset that sum up to that difference. So from each of the 200 differences, we will subtract the original dataset to come up with a size (200,200) array (call these the \"second_differences\"). This operation can be done using an outer subtraction rather than looping. If any of these resulting second differences are found in the original dataset, then those are the quantities that we are looking for."
   ]
  },
  {
   "cell_type": "code",
   "execution_count": 4,
   "metadata": {},
   "outputs": [
    {
     "data": {
      "text/plain": [
       "49214880"
      ]
     },
     "execution_count": 4,
     "metadata": {},
     "output_type": "execute_result"
    }
   ],
   "source": [
    "second_diffs = np.subtract.outer(diffs, data)\n",
    "\n",
    "# tells us which of the second differences are in the original dataset\n",
    "np.intersect1d(second_diffs,data).prod()"
   ]
  }
 ],
 "metadata": {
  "kernelspec": {
   "display_name": "Documents",
   "language": "python",
   "name": "documents"
  },
  "language_info": {
   "codemirror_mode": {
    "name": "ipython",
    "version": 3
   },
   "file_extension": ".py",
   "mimetype": "text/x-python",
   "name": "python",
   "nbconvert_exporter": "python",
   "pygments_lexer": "ipython3",
   "version": "3.8.3"
  }
 },
 "nbformat": 4,
 "nbformat_minor": 4
}
